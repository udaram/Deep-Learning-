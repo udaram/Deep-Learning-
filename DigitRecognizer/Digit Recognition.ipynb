{
 "cells": [
  {
   "cell_type": "code",
   "execution_count": 7,
   "metadata": {},
   "outputs": [
    {
     "data": {
      "image/png": "[encoded data removed]",
      "text/plain": [
       "<Figure size 432x288 with 1 Axes>"
      ]
     },
     "metadata": {
      "needs_background": "light"
     },
     "output_type": "display_data"
    }
   ],
   "source": [
    "import pandas as pd\n",
    "import numpy as np\n",
    "import matplotlib.pyplot as plt\n",
    "from sklearn.model_selection import train_test_split\n",
    "\n",
    "#import data from file\n",
    "train_data = pd.read_csv(\"train.csv\")\n",
    "\n",
    "labels = train_data.iloc[:,[0]].values\n",
    "images = train_data.iloc[:,1:].values\n",
    "\n",
    "images = images/255.0 #to normalise each image to [0,1]\n",
    "\n",
    "\n",
    "# reshape images(28,28,1)\n",
    "images = images.reshape(images.shape[0], 28, 28, 1).astype('float32')\n",
    "\n",
    "from keras.utils import to_categorical\n",
    "labels = to_categorical(labels,num_classes = 10) #to convert labels as 3= [0,0,0, 1, 0, 0, 0,0 ,... ]\n",
    "\n",
    "train_im, test_im, train_labels,test_labels = train_test_split(images, labels, test_size = 0.1, random_state=2)\n",
    "#train_im = train_im.reshape(train_im.shape[0], 28, 28, 1).astype('float32')\n",
    "#test_im = test_im.reshape(test_im.shape[0], 28, 28, 1).astype('float32')\n",
    "plt.imshow(test_im[1][:,:,0],cmap=plt.get_cmap('gray'))\n",
    "plt.show()"
   ]
  },
  {
   "cell_type": "code",
   "execution_count": 8,
   "metadata": {},
   "outputs": [],
   "source": [
    "import keras\n",
    "from keras.models import Sequential\n",
    "from keras.layers import Dense,Flatten\n",
    "from keras.layers.convolutional import Conv2D  #to add convolutional layer\n",
    "from keras.layers.convolutional import MaxPooling2D #to add pooling layer"
   ]
  },
  {
   "cell_type": "code",
   "execution_count": 9,
   "metadata": {},
   "outputs": [],
   "source": [
    "def convolutional_model(num_classes):\n",
    "    model = Sequential()\n",
    "    input_shape = (28,28,1)\n",
    "    \n",
    "    model.add(Conv2D(32,kernel_size=(2,2),strides=(1,1),activation='relu',input_shape=input_shape))\n",
    "    model.add(MaxPooling2D(pool_size=(2,2),strides=(2,2)))\n",
    "    \n",
    "    model.add(Conv2D(64,kernel_size=(2,2),strides=(1,1),activation='relu'))\n",
    "    model.add(MaxPooling2D(pool_size=(2,2),strides=(2,2)))\n",
    "    \n",
    "    model.add(Conv2D(128,kernel_size=(2,2),strides=(1,1),activation='relu'))\n",
    "    model.add(MaxPooling2D(pool_size=(2,2),strides=(2,2)))\n",
    "    \n",
    "    model.add(Flatten())\n",
    "    \n",
    "    model.add(Dense(200,activation='relu'))\n",
    "    model.add(Dense(num_classes,activation='softmax'))\n",
    "    \n",
    "    #compile and optimize the model \n",
    "    model.compile(optimizer='adam',loss='categorical_crossentropy',metrics=['accuracy'])\n",
    "    return model"
   ]
  },
  {
   "cell_type": "code",
   "execution_count": 12,
   "metadata": {},
   "outputs": [
    {
     "name": "stdout",
     "output_type": "stream",
     "text": [
      "_________________________________________________________________\n",
      "Layer (type)                 Output Shape              Param #   \n",
      "=================================================================\n",
      "conv2d_1 (Conv2D)            (None, 27, 27, 32)        160       \n",
      "_________________________________________________________________\n",
      "max_pooling2d_1 (MaxPooling2 (None, 13, 13, 32)        0         \n",
      "_________________________________________________________________\n",
      "conv2d_2 (Conv2D)            (None, 12, 12, 64)        8256      \n",
      "_________________________________________________________________\n",
      "max_pooling2d_2 (MaxPooling2 (None, 6, 6, 64)          0         \n",
      "_________________________________________________________________\n",
      "conv2d_3 (Conv2D)            (None, 5, 5, 128)         32896     \n",
      "_________________________________________________________________\n",
      "max_pooling2d_3 (MaxPooling2 (None, 2, 2, 128)         0         \n",
      "_________________________________________________________________\n",
      "flatten_1 (Flatten)          (None, 512)               0         \n",
      "_________________________________________________________________\n",
      "dense_1 (Dense)              (None, 200)               102600    \n",
      "_________________________________________________________________\n",
      "dense_2 (Dense)              (None, 10)                2010      \n",
      "=================================================================\n",
      "Total params: 145,922\n",
      "Trainable params: 145,922\n",
      "Non-trainable params: 0\n",
      "_________________________________________________________________\n",
      "Epoch 1/10\n",
      " - 11s - loss: 0.4974 - acc: 0.8524\n",
      "Epoch 2/10\n",
      " - 10s - loss: 0.1064 - acc: 0.9667\n",
      "Epoch 3/10\n",
      " - 10s - loss: 0.0774 - acc: 0.9754\n",
      "Epoch 4/10\n",
      " - 10s - loss: 0.0599 - acc: 0.9808\n",
      "Epoch 5/10\n",
      " - 11s - loss: 0.0469 - acc: 0.9853\n",
      "Epoch 6/10\n",
      " - 11s - loss: 0.0422 - acc: 0.9858\n",
      "Epoch 7/10\n",
      " - 10s - loss: 0.0320 - acc: 0.9900\n",
      "Epoch 8/10\n",
      " - 10s - loss: 0.0286 - acc: 0.9907\n",
      "Epoch 9/10\n",
      " - 11s - loss: 0.0241 - acc: 0.9926\n",
      "Epoch 10/10\n",
      " - 10s - loss: 0.0228 - acc: 0.9929\n",
      "Accuracy : [0.059697813008069284, 0.9826190476190476]\n"
     ]
    }
   ],
   "source": [
    "num_classes = 10 \n",
    "\n",
    "model = convolutional_model(num_classes)\n",
    "model.summary()\n",
    "#fitting data images and labels to CNN model\n",
    "model.fit(train_im,train_labels,batch_size=200,epochs=10,verbose=2)\n",
    "\n",
    "#evaluating model\n",
    "scores = model.evaluate(test_im, test_labels, verbose=0)\n",
    "\n",
    "print('Accuracy :',scores)"
   ]
  },
  {
   "cell_type": "code",
   "execution_count": 72,
   "metadata": {},
   "outputs": [
    {
     "data": {
      "text/plain": [
       "<matplotlib.image.AxesImage at 0x7f01e29d6518>"
      ]
     },
     "execution_count": 72,
     "metadata": {},
     "output_type": "execute_result"
    },
    {
     "data": {
      "image/png": "[encoded data removed]",
      "text/plain": [
       "<Figure size 432x288 with 1 Axes>"
      ]
     },
     "metadata": {
      "needs_background": "light"
     },
     "output_type": "display_data"
    }
   ],
   "source": [
    "plt.imshow(test_im[0][:,:,0])"
   ]
  },
  {
   "cell_type": "code",
   "execution_count": 73,
   "metadata": {},
   "outputs": [],
   "source": [
    "test_data=pd.read_csv('test.csv')\n",
    "#to normalise test data\n",
    "test_data=test_data/255.5\n",
    "\n",
    "test_data = test_data.values.reshape(-1, 28, 28, 1)"
   ]
  },
  {
   "cell_type": "code",
   "execution_count": 74,
   "metadata": {},
   "outputs": [
    {
     "name": "stdout",
     "output_type": "stream",
     "text": [
      "[2 0 9 ... 3 9 2]\n"
     ]
    }
   ],
   "source": [
    "results=model.predict(test_data)\n",
    "results = np.argmax(results,axis = 1)\n",
    "print(results)"
   ]
  },
  {
   "cell_type": "code",
   "execution_count": 75,
   "metadata": {},
   "outputs": [
    {
     "name": "stdout",
     "output_type": "stream",
     "text": [
      "0    2\n",
      "1    0\n",
      "2    9\n",
      "3    9\n",
      "4    3\n",
      "Name: Label, dtype: int64\n"
     ]
    }
   ],
   "source": [
    "results=pd.Series(results,name=\"Label\")\n",
    "print(results.head())"
   ]
  },
  {
   "cell_type": "code",
   "execution_count": 76,
   "metadata": {},
   "outputs": [],
   "source": [
    "submission = pd.concat([pd.Series(range(1,28001),name = \"ImageId\"),results],axis = 1)\n",
    "\n",
    "submission.to_csv(\"cnn_mnist_datagen.csv\",index=False)"
   ]
  },
  {
   "cell_type": "code",
   "execution_count": 21,
   "metadata": {},
   "outputs": [],
   "source": [
    "import cv2\n",
    "def make_prediction(image):\n",
    "    unknown=cv2.imread(image,cv2.IMREAD_GRAYSCALE)\n",
    "    unknown=cv2.resize(unknown,(28,28))\n",
    "    unknown=unknown/255.0\n",
    "    plt.imshow(unknown)\n",
    "    unknown=np.array(unknown).reshape(-1,28,28,1)\n",
    "    predict=model.predict(unknown)\n",
    "    return np.argmax(predict,axis = 1)\n"
   ]
  },
  {
   "cell_type": "code",
   "execution_count": 23,
   "metadata": {},
   "outputs": [
    {
     "name": "stdout",
     "output_type": "stream",
     "text": [
      "[8]\n"
     ]
    },
    {
     "data": {
      "image/png": "[encoded data removed]",
      "text/plain": [
       "<Figure size 432x288 with 1 Axes>"
      ]
     },
     "metadata": {
      "needs_background": "light"
     },
     "output_type": "display_data"
    }
   ],
   "source": [
    "print(make_prediction('images.png'))"
   ]
  },
  {
   "cell_type": "code",
   "execution_count": null,
   "metadata": {},
   "outputs": [],
   "source": []
  }
 ],
 "metadata": {
  "kernelspec": {
   "display_name": "Python 3",
   "language": "python",
   "name": "python3"
  },
  "language_info": {
   "codemirror_mode": {
    "name": "ipython",
    "version": 3
   },
   "file_extension": ".py",
   "mimetype": "text/x-python",
   "name": "python",
   "nbconvert_exporter": "python",
   "pygments_lexer": "ipython3",
   "version": "3.6.7"
  }
 },
 "nbformat": 4,
 "nbformat_minor": 2
}
